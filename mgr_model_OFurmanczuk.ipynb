{
  "nbformat": 4,
  "nbformat_minor": 0,
  "metadata": {
    "accelerator": "GPU",
    "colab": {
      "name": "mgr_model_OFurmanczuk.ipynb",
      "provenance": [],
      "collapsed_sections": [],
      "include_colab_link": true
    },
    "kernelspec": {
      "display_name": "Python 3",
      "language": "python",
      "name": "python3"
    },
    "language_info": {
      "codemirror_mode": {
        "name": "ipython",
        "version": 3
      },
      "file_extension": ".py",
      "mimetype": "text/x-python",
      "name": "python",
      "nbconvert_exporter": "python",
      "pygments_lexer": "ipython3",
      "version": "3.7.0"
    }
  },
  "cells": [
    {
      "cell_type": "markdown",
      "metadata": {
        "id": "view-in-github",
        "colab_type": "text"
      },
      "source": [
        "<a href=\"https://colab.research.google.com/github/oskar-furmanczuk/masters-thesis/blob/main/mgr_model_OFurmanczuk.ipynb\" target=\"_parent\"><img src=\"https://colab.research.google.com/assets/colab-badge.svg\" alt=\"Open In Colab\"/></a>"
      ]
    },
    {
      "cell_type": "code",
      "metadata": {
        "id": "b50Dxhj0kOuF",
        "colab": {
          "base_uri": "https://localhost:8080/"
        },
        "outputId": "73f275e4-d34a-428f-ad5d-b78b76e1fd23"
      },
      "source": [
        "!pip install shap\n",
        "import pandas as pd\n",
        "import numpy as np\n",
        "import matplotlib.pyplot as plt\n",
        "from sklearn.model_selection import train_test_split\n",
        "from xgboost import XGBClassifier\n",
        "from sklearn.metrics import accuracy_score, f1_score, precision_score, roc_curve, auc, confusion_matrix\n",
        "from sklearn.model_selection import GridSearchCV\n",
        "import shap\n",
        "import time"
      ],
      "execution_count": 3,
      "outputs": [
        {
          "output_type": "stream",
          "text": [
            "Requirement already satisfied: shap in /usr/local/lib/python3.7/dist-packages (0.39.0)\n",
            "Requirement already satisfied: cloudpickle in /usr/local/lib/python3.7/dist-packages (from shap) (1.3.0)\n",
            "Requirement already satisfied: slicer==0.0.7 in /usr/local/lib/python3.7/dist-packages (from shap) (0.0.7)\n",
            "Requirement already satisfied: scipy in /usr/local/lib/python3.7/dist-packages (from shap) (1.4.1)\n",
            "Requirement already satisfied: numpy in /usr/local/lib/python3.7/dist-packages (from shap) (1.19.5)\n",
            "Requirement already satisfied: numba in /usr/local/lib/python3.7/dist-packages (from shap) (0.51.2)\n",
            "Requirement already satisfied: scikit-learn in /usr/local/lib/python3.7/dist-packages (from shap) (0.22.2.post1)\n",
            "Requirement already satisfied: pandas in /usr/local/lib/python3.7/dist-packages (from shap) (1.1.5)\n",
            "Requirement already satisfied: tqdm>4.25.0 in /usr/local/lib/python3.7/dist-packages (from shap) (4.41.1)\n",
            "Requirement already satisfied: setuptools in /usr/local/lib/python3.7/dist-packages (from numba->shap) (54.2.0)\n",
            "Requirement already satisfied: llvmlite<0.35,>=0.34.0.dev0 in /usr/local/lib/python3.7/dist-packages (from numba->shap) (0.34.0)\n",
            "Requirement already satisfied: joblib>=0.11 in /usr/local/lib/python3.7/dist-packages (from scikit-learn->shap) (1.0.1)\n",
            "Requirement already satisfied: pytz>=2017.2 in /usr/local/lib/python3.7/dist-packages (from pandas->shap) (2018.9)\n",
            "Requirement already satisfied: python-dateutil>=2.7.3 in /usr/local/lib/python3.7/dist-packages (from pandas->shap) (2.8.1)\n",
            "Requirement already satisfied: six>=1.5 in /usr/local/lib/python3.7/dist-packages (from python-dateutil>=2.7.3->pandas->shap) (1.15.0)\n"
          ],
          "name": "stdout"
        }
      ]
    },
    {
      "cell_type": "code",
      "metadata": {
        "colab": {
          "base_uri": "https://localhost:8080/"
        },
        "id": "qAh_u43bHc6r",
        "outputId": "329aec62-0c86-43a2-ce92-ea55dc6c34cd"
      },
      "source": [
        "from google.colab import drive\n",
        "drive.mount(\"/content/gdrive\", force_remount=True)"
      ],
      "execution_count": 4,
      "outputs": [
        {
          "output_type": "stream",
          "text": [
            "Mounted at /content/gdrive\n"
          ],
          "name": "stdout"
        }
      ]
    },
    {
      "cell_type": "code",
      "metadata": {
        "id": "vHuNxKDelG9G"
      },
      "source": [
        "# df = pd.read_csv(\"D:\\REPOSITORY\\masters-thesis\\data\\clean_COVID_Cases_Restricted_Detailed_02282021.xls\")\n",
        "\n",
        "df = pd.read_csv(\"/content/gdrive/MyDrive/dane-mgr/clean_COVID_Cases_Restricted_Detailed_02282021.csv\")"
      ],
      "execution_count": 7,
      "outputs": []
    },
    {
      "cell_type": "code",
      "metadata": {
        "colab": {
          "base_uri": "https://localhost:8080/",
          "height": 309
        },
        "id": "SvL0_B4AiOIg",
        "outputId": "380620a5-a750-48d7-ea47-e0b555c64b40"
      },
      "source": [
        "df.head()"
      ],
      "execution_count": 8,
      "outputs": [
        {
          "output_type": "execute_result",
          "data": {
            "text/html": [
              "<div>\n",
              "<style scoped>\n",
              "    .dataframe tbody tr th:only-of-type {\n",
              "        vertical-align: middle;\n",
              "    }\n",
              "\n",
              "    .dataframe tbody tr th {\n",
              "        vertical-align: top;\n",
              "    }\n",
              "\n",
              "    .dataframe thead th {\n",
              "        text-align: right;\n",
              "    }\n",
              "</style>\n",
              "<table border=\"1\" class=\"dataframe\">\n",
              "  <thead>\n",
              "    <tr style=\"text-align: right;\">\n",
              "      <th></th>\n",
              "      <th>race_ethnicity_combined</th>\n",
              "      <th>current_status</th>\n",
              "      <th>cdc_case_earliest_dt</th>\n",
              "      <th>sex</th>\n",
              "      <th>hosp_yn</th>\n",
              "      <th>icu_yn</th>\n",
              "      <th>death_yn</th>\n",
              "      <th>hc_work_yn</th>\n",
              "      <th>pna_yn</th>\n",
              "      <th>abxchest_yn</th>\n",
              "      <th>acuterespdistress_yn</th>\n",
              "      <th>mechvent_yn</th>\n",
              "      <th>fever_yn</th>\n",
              "      <th>sfever_yn</th>\n",
              "      <th>chills_yn</th>\n",
              "      <th>myalgia_yn</th>\n",
              "      <th>runnose_yn</th>\n",
              "      <th>sthroat_yn</th>\n",
              "      <th>cough_yn</th>\n",
              "      <th>sob_yn</th>\n",
              "      <th>nauseavomit_yn</th>\n",
              "      <th>headache_yn</th>\n",
              "      <th>abdom_yn</th>\n",
              "      <th>diarrhea_yn</th>\n",
              "      <th>medcond_yn</th>\n",
              "      <th>county_fips_code</th>\n",
              "      <th>res_county</th>\n",
              "      <th>res_state</th>\n",
              "      <th>age_group</th>\n",
              "    </tr>\n",
              "  </thead>\n",
              "  <tbody>\n",
              "    <tr>\n",
              "      <th>0</th>\n",
              "      <td>Black, Non-Hispanic</td>\n",
              "      <td>Laboratory-confirmed case</td>\n",
              "      <td>2020-09-09</td>\n",
              "      <td>Male</td>\n",
              "      <td>No</td>\n",
              "      <td>No</td>\n",
              "      <td>No</td>\n",
              "      <td>No</td>\n",
              "      <td>No</td>\n",
              "      <td>No</td>\n",
              "      <td>No</td>\n",
              "      <td>No</td>\n",
              "      <td>Yes</td>\n",
              "      <td>No</td>\n",
              "      <td>Yes</td>\n",
              "      <td>Yes</td>\n",
              "      <td>No</td>\n",
              "      <td>Yes</td>\n",
              "      <td>No</td>\n",
              "      <td>No</td>\n",
              "      <td>No</td>\n",
              "      <td>Yes</td>\n",
              "      <td>No</td>\n",
              "      <td>No</td>\n",
              "      <td>No</td>\n",
              "      <td>39009.0</td>\n",
              "      <td>ATHENS</td>\n",
              "      <td>OH</td>\n",
              "      <td>10 - 19 Years</td>\n",
              "    </tr>\n",
              "    <tr>\n",
              "      <th>1</th>\n",
              "      <td>Black, Non-Hispanic</td>\n",
              "      <td>Laboratory-confirmed case</td>\n",
              "      <td>2020-10-08</td>\n",
              "      <td>Male</td>\n",
              "      <td>No</td>\n",
              "      <td>No</td>\n",
              "      <td>No</td>\n",
              "      <td>No</td>\n",
              "      <td>No</td>\n",
              "      <td>No</td>\n",
              "      <td>No</td>\n",
              "      <td>No</td>\n",
              "      <td>No</td>\n",
              "      <td>No</td>\n",
              "      <td>No</td>\n",
              "      <td>No</td>\n",
              "      <td>No</td>\n",
              "      <td>No</td>\n",
              "      <td>No</td>\n",
              "      <td>Yes</td>\n",
              "      <td>No</td>\n",
              "      <td>Yes</td>\n",
              "      <td>No</td>\n",
              "      <td>No</td>\n",
              "      <td>No</td>\n",
              "      <td>39009.0</td>\n",
              "      <td>ATHENS</td>\n",
              "      <td>OH</td>\n",
              "      <td>10 - 19 Years</td>\n",
              "    </tr>\n",
              "    <tr>\n",
              "      <th>2</th>\n",
              "      <td>Black, Non-Hispanic</td>\n",
              "      <td>Laboratory-confirmed case</td>\n",
              "      <td>2020-09-23</td>\n",
              "      <td>Male</td>\n",
              "      <td>No</td>\n",
              "      <td>No</td>\n",
              "      <td>No</td>\n",
              "      <td>No</td>\n",
              "      <td>No</td>\n",
              "      <td>No</td>\n",
              "      <td>No</td>\n",
              "      <td>No</td>\n",
              "      <td>No</td>\n",
              "      <td>No</td>\n",
              "      <td>No</td>\n",
              "      <td>No</td>\n",
              "      <td>No</td>\n",
              "      <td>No</td>\n",
              "      <td>No</td>\n",
              "      <td>No</td>\n",
              "      <td>No</td>\n",
              "      <td>No</td>\n",
              "      <td>No</td>\n",
              "      <td>No</td>\n",
              "      <td>No</td>\n",
              "      <td>39009.0</td>\n",
              "      <td>ATHENS</td>\n",
              "      <td>OH</td>\n",
              "      <td>10 - 19 Years</td>\n",
              "    </tr>\n",
              "    <tr>\n",
              "      <th>3</th>\n",
              "      <td>Black, Non-Hispanic</td>\n",
              "      <td>Laboratory-confirmed case</td>\n",
              "      <td>2020-10-08</td>\n",
              "      <td>Male</td>\n",
              "      <td>No</td>\n",
              "      <td>No</td>\n",
              "      <td>No</td>\n",
              "      <td>No</td>\n",
              "      <td>No</td>\n",
              "      <td>No</td>\n",
              "      <td>No</td>\n",
              "      <td>No</td>\n",
              "      <td>No</td>\n",
              "      <td>No</td>\n",
              "      <td>No</td>\n",
              "      <td>No</td>\n",
              "      <td>No</td>\n",
              "      <td>No</td>\n",
              "      <td>Yes</td>\n",
              "      <td>No</td>\n",
              "      <td>Yes</td>\n",
              "      <td>No</td>\n",
              "      <td>No</td>\n",
              "      <td>Yes</td>\n",
              "      <td>No</td>\n",
              "      <td>39009.0</td>\n",
              "      <td>ATHENS</td>\n",
              "      <td>OH</td>\n",
              "      <td>10 - 19 Years</td>\n",
              "    </tr>\n",
              "    <tr>\n",
              "      <th>4</th>\n",
              "      <td>Multiple/Other, Non-Hispanic</td>\n",
              "      <td>Laboratory-confirmed case</td>\n",
              "      <td>2020-09-02</td>\n",
              "      <td>Male</td>\n",
              "      <td>No</td>\n",
              "      <td>No</td>\n",
              "      <td>No</td>\n",
              "      <td>No</td>\n",
              "      <td>No</td>\n",
              "      <td>No</td>\n",
              "      <td>No</td>\n",
              "      <td>No</td>\n",
              "      <td>Yes</td>\n",
              "      <td>Yes</td>\n",
              "      <td>Yes</td>\n",
              "      <td>Yes</td>\n",
              "      <td>Yes</td>\n",
              "      <td>No</td>\n",
              "      <td>No</td>\n",
              "      <td>No</td>\n",
              "      <td>No</td>\n",
              "      <td>No</td>\n",
              "      <td>No</td>\n",
              "      <td>No</td>\n",
              "      <td>No</td>\n",
              "      <td>39017.0</td>\n",
              "      <td>BUTLER</td>\n",
              "      <td>OH</td>\n",
              "      <td>60 - 69 Years</td>\n",
              "    </tr>\n",
              "  </tbody>\n",
              "</table>\n",
              "</div>"
            ],
            "text/plain": [
              "         race_ethnicity_combined  ...      age_group\n",
              "0            Black, Non-Hispanic  ...  10 - 19 Years\n",
              "1            Black, Non-Hispanic  ...  10 - 19 Years\n",
              "2            Black, Non-Hispanic  ...  10 - 19 Years\n",
              "3            Black, Non-Hispanic  ...  10 - 19 Years\n",
              "4  Multiple/Other, Non-Hispanic   ...  60 - 69 Years\n",
              "\n",
              "[5 rows x 29 columns]"
            ]
          },
          "metadata": {
            "tags": []
          },
          "execution_count": 8
        }
      ]
    },
    {
      "cell_type": "code",
      "metadata": {
        "id": "GCWUipy_jltN"
      },
      "source": [
        "dates = df.cdc_case_earliest_dt.values"
      ],
      "execution_count": 9,
      "outputs": []
    },
    {
      "cell_type": "code",
      "metadata": {
        "id": "lGgCopdEkAAj"
      },
      "source": [
        "df[\"date_year\"] = list(map(lambda x: int(x.split(\"-\")[0]), dates))\n",
        "df[\"date_month\"] = list(map(lambda x: int(x.split(\"-\")[1]), dates))\n",
        "df[\"date_day\"] = list(map(lambda x: int(x.split(\"-\")[2]), dates))"
      ],
      "execution_count": 10,
      "outputs": []
    },
    {
      "cell_type": "code",
      "metadata": {
        "id": "UMJbgR5HlsYB"
      },
      "source": [
        "df = df.drop(\"cdc_case_earliest_dt\", axis=1)"
      ],
      "execution_count": 11,
      "outputs": []
    },
    {
      "cell_type": "code",
      "metadata": {
        "colab": {
          "base_uri": "https://localhost:8080/",
          "height": 309
        },
        "id": "aY0WsIZpkcMF",
        "outputId": "86a90423-b3e4-4d38-f8f2-a30a3b01bff7"
      },
      "source": [
        "df.head()"
      ],
      "execution_count": 12,
      "outputs": [
        {
          "output_type": "execute_result",
          "data": {
            "text/html": [
              "<div>\n",
              "<style scoped>\n",
              "    .dataframe tbody tr th:only-of-type {\n",
              "        vertical-align: middle;\n",
              "    }\n",
              "\n",
              "    .dataframe tbody tr th {\n",
              "        vertical-align: top;\n",
              "    }\n",
              "\n",
              "    .dataframe thead th {\n",
              "        text-align: right;\n",
              "    }\n",
              "</style>\n",
              "<table border=\"1\" class=\"dataframe\">\n",
              "  <thead>\n",
              "    <tr style=\"text-align: right;\">\n",
              "      <th></th>\n",
              "      <th>race_ethnicity_combined</th>\n",
              "      <th>current_status</th>\n",
              "      <th>sex</th>\n",
              "      <th>hosp_yn</th>\n",
              "      <th>icu_yn</th>\n",
              "      <th>death_yn</th>\n",
              "      <th>hc_work_yn</th>\n",
              "      <th>pna_yn</th>\n",
              "      <th>abxchest_yn</th>\n",
              "      <th>acuterespdistress_yn</th>\n",
              "      <th>mechvent_yn</th>\n",
              "      <th>fever_yn</th>\n",
              "      <th>sfever_yn</th>\n",
              "      <th>chills_yn</th>\n",
              "      <th>myalgia_yn</th>\n",
              "      <th>runnose_yn</th>\n",
              "      <th>sthroat_yn</th>\n",
              "      <th>cough_yn</th>\n",
              "      <th>sob_yn</th>\n",
              "      <th>nauseavomit_yn</th>\n",
              "      <th>headache_yn</th>\n",
              "      <th>abdom_yn</th>\n",
              "      <th>diarrhea_yn</th>\n",
              "      <th>medcond_yn</th>\n",
              "      <th>county_fips_code</th>\n",
              "      <th>res_county</th>\n",
              "      <th>res_state</th>\n",
              "      <th>age_group</th>\n",
              "      <th>date_year</th>\n",
              "      <th>date_month</th>\n",
              "      <th>date_day</th>\n",
              "    </tr>\n",
              "  </thead>\n",
              "  <tbody>\n",
              "    <tr>\n",
              "      <th>0</th>\n",
              "      <td>Black, Non-Hispanic</td>\n",
              "      <td>Laboratory-confirmed case</td>\n",
              "      <td>Male</td>\n",
              "      <td>No</td>\n",
              "      <td>No</td>\n",
              "      <td>No</td>\n",
              "      <td>No</td>\n",
              "      <td>No</td>\n",
              "      <td>No</td>\n",
              "      <td>No</td>\n",
              "      <td>No</td>\n",
              "      <td>Yes</td>\n",
              "      <td>No</td>\n",
              "      <td>Yes</td>\n",
              "      <td>Yes</td>\n",
              "      <td>No</td>\n",
              "      <td>Yes</td>\n",
              "      <td>No</td>\n",
              "      <td>No</td>\n",
              "      <td>No</td>\n",
              "      <td>Yes</td>\n",
              "      <td>No</td>\n",
              "      <td>No</td>\n",
              "      <td>No</td>\n",
              "      <td>39009.0</td>\n",
              "      <td>ATHENS</td>\n",
              "      <td>OH</td>\n",
              "      <td>10 - 19 Years</td>\n",
              "      <td>2020</td>\n",
              "      <td>9</td>\n",
              "      <td>9</td>\n",
              "    </tr>\n",
              "    <tr>\n",
              "      <th>1</th>\n",
              "      <td>Black, Non-Hispanic</td>\n",
              "      <td>Laboratory-confirmed case</td>\n",
              "      <td>Male</td>\n",
              "      <td>No</td>\n",
              "      <td>No</td>\n",
              "      <td>No</td>\n",
              "      <td>No</td>\n",
              "      <td>No</td>\n",
              "      <td>No</td>\n",
              "      <td>No</td>\n",
              "      <td>No</td>\n",
              "      <td>No</td>\n",
              "      <td>No</td>\n",
              "      <td>No</td>\n",
              "      <td>No</td>\n",
              "      <td>No</td>\n",
              "      <td>No</td>\n",
              "      <td>No</td>\n",
              "      <td>Yes</td>\n",
              "      <td>No</td>\n",
              "      <td>Yes</td>\n",
              "      <td>No</td>\n",
              "      <td>No</td>\n",
              "      <td>No</td>\n",
              "      <td>39009.0</td>\n",
              "      <td>ATHENS</td>\n",
              "      <td>OH</td>\n",
              "      <td>10 - 19 Years</td>\n",
              "      <td>2020</td>\n",
              "      <td>10</td>\n",
              "      <td>8</td>\n",
              "    </tr>\n",
              "    <tr>\n",
              "      <th>2</th>\n",
              "      <td>Black, Non-Hispanic</td>\n",
              "      <td>Laboratory-confirmed case</td>\n",
              "      <td>Male</td>\n",
              "      <td>No</td>\n",
              "      <td>No</td>\n",
              "      <td>No</td>\n",
              "      <td>No</td>\n",
              "      <td>No</td>\n",
              "      <td>No</td>\n",
              "      <td>No</td>\n",
              "      <td>No</td>\n",
              "      <td>No</td>\n",
              "      <td>No</td>\n",
              "      <td>No</td>\n",
              "      <td>No</td>\n",
              "      <td>No</td>\n",
              "      <td>No</td>\n",
              "      <td>No</td>\n",
              "      <td>No</td>\n",
              "      <td>No</td>\n",
              "      <td>No</td>\n",
              "      <td>No</td>\n",
              "      <td>No</td>\n",
              "      <td>No</td>\n",
              "      <td>39009.0</td>\n",
              "      <td>ATHENS</td>\n",
              "      <td>OH</td>\n",
              "      <td>10 - 19 Years</td>\n",
              "      <td>2020</td>\n",
              "      <td>9</td>\n",
              "      <td>23</td>\n",
              "    </tr>\n",
              "    <tr>\n",
              "      <th>3</th>\n",
              "      <td>Black, Non-Hispanic</td>\n",
              "      <td>Laboratory-confirmed case</td>\n",
              "      <td>Male</td>\n",
              "      <td>No</td>\n",
              "      <td>No</td>\n",
              "      <td>No</td>\n",
              "      <td>No</td>\n",
              "      <td>No</td>\n",
              "      <td>No</td>\n",
              "      <td>No</td>\n",
              "      <td>No</td>\n",
              "      <td>No</td>\n",
              "      <td>No</td>\n",
              "      <td>No</td>\n",
              "      <td>No</td>\n",
              "      <td>No</td>\n",
              "      <td>No</td>\n",
              "      <td>Yes</td>\n",
              "      <td>No</td>\n",
              "      <td>Yes</td>\n",
              "      <td>No</td>\n",
              "      <td>No</td>\n",
              "      <td>Yes</td>\n",
              "      <td>No</td>\n",
              "      <td>39009.0</td>\n",
              "      <td>ATHENS</td>\n",
              "      <td>OH</td>\n",
              "      <td>10 - 19 Years</td>\n",
              "      <td>2020</td>\n",
              "      <td>10</td>\n",
              "      <td>8</td>\n",
              "    </tr>\n",
              "    <tr>\n",
              "      <th>4</th>\n",
              "      <td>Multiple/Other, Non-Hispanic</td>\n",
              "      <td>Laboratory-confirmed case</td>\n",
              "      <td>Male</td>\n",
              "      <td>No</td>\n",
              "      <td>No</td>\n",
              "      <td>No</td>\n",
              "      <td>No</td>\n",
              "      <td>No</td>\n",
              "      <td>No</td>\n",
              "      <td>No</td>\n",
              "      <td>No</td>\n",
              "      <td>Yes</td>\n",
              "      <td>Yes</td>\n",
              "      <td>Yes</td>\n",
              "      <td>Yes</td>\n",
              "      <td>Yes</td>\n",
              "      <td>No</td>\n",
              "      <td>No</td>\n",
              "      <td>No</td>\n",
              "      <td>No</td>\n",
              "      <td>No</td>\n",
              "      <td>No</td>\n",
              "      <td>No</td>\n",
              "      <td>No</td>\n",
              "      <td>39017.0</td>\n",
              "      <td>BUTLER</td>\n",
              "      <td>OH</td>\n",
              "      <td>60 - 69 Years</td>\n",
              "      <td>2020</td>\n",
              "      <td>9</td>\n",
              "      <td>2</td>\n",
              "    </tr>\n",
              "  </tbody>\n",
              "</table>\n",
              "</div>"
            ],
            "text/plain": [
              "         race_ethnicity_combined  ... date_day\n",
              "0            Black, Non-Hispanic  ...        9\n",
              "1            Black, Non-Hispanic  ...        8\n",
              "2            Black, Non-Hispanic  ...       23\n",
              "3            Black, Non-Hispanic  ...        8\n",
              "4  Multiple/Other, Non-Hispanic   ...        2\n",
              "\n",
              "[5 rows x 31 columns]"
            ]
          },
          "metadata": {
            "tags": []
          },
          "execution_count": 12
        }
      ]
    },
    {
      "cell_type": "code",
      "metadata": {
        "id": "GL9Dmu1tnF2j"
      },
      "source": [
        "df = df.replace(\"No\", 0).replace(\"Yes\", 1)\n",
        "df = df.replace(\"Male\", 1).replace(\"Female\", 0)"
      ],
      "execution_count": 13,
      "outputs": []
    },
    {
      "cell_type": "code",
      "metadata": {
        "colab": {
          "base_uri": "https://localhost:8080/"
        },
        "id": "s63BXoHtnr_y",
        "outputId": "60225324-5303-4b58-af3e-9cb6e182fcb0"
      },
      "source": [
        "# covid death rate in USA\n",
        "df[df[\"death_yn\"] == 1].shape[0] / ( df[df[\"death_yn\"] == 0].shape[0] + df[df[\"death_yn\"] == 1].shape[0] )"
      ],
      "execution_count": 14,
      "outputs": [
        {
          "output_type": "execute_result",
          "data": {
            "text/plain": [
              "0.012816543505564156"
            ]
          },
          "metadata": {
            "tags": []
          },
          "execution_count": 14
        }
      ]
    },
    {
      "cell_type": "code",
      "metadata": {
        "id": "bjQjOUWjqzcy"
      },
      "source": [
        "df = df.drop(\"county_fips_code\", axis=1)"
      ],
      "execution_count": 15,
      "outputs": []
    },
    {
      "cell_type": "code",
      "metadata": {
        "id": "znh6QsE7n724"
      },
      "source": [
        "for col in df.columns:\n",
        "  try:\n",
        "    df.loc[:, col] = pd.to_numeric(df[col])\n",
        "  except:\n",
        "    pass"
      ],
      "execution_count": 16,
      "outputs": []
    },
    {
      "cell_type": "code",
      "metadata": {
        "colab": {
          "base_uri": "https://localhost:8080/"
        },
        "id": "u7smV9sso2ML",
        "outputId": "8c567589-b094-422b-8947-05a50e0902e0"
      },
      "source": [
        "df.dtypes"
      ],
      "execution_count": 17,
      "outputs": [
        {
          "output_type": "execute_result",
          "data": {
            "text/plain": [
              "race_ethnicity_combined    object\n",
              "current_status             object\n",
              "sex                         int64\n",
              "hosp_yn                     int64\n",
              "icu_yn                      int64\n",
              "death_yn                    int64\n",
              "hc_work_yn                  int64\n",
              "pna_yn                      int64\n",
              "abxchest_yn                 int64\n",
              "acuterespdistress_yn        int64\n",
              "mechvent_yn                 int64\n",
              "fever_yn                    int64\n",
              "sfever_yn                   int64\n",
              "chills_yn                   int64\n",
              "myalgia_yn                  int64\n",
              "runnose_yn                  int64\n",
              "sthroat_yn                  int64\n",
              "cough_yn                    int64\n",
              "sob_yn                      int64\n",
              "nauseavomit_yn              int64\n",
              "headache_yn                 int64\n",
              "abdom_yn                    int64\n",
              "diarrhea_yn                 int64\n",
              "medcond_yn                  int64\n",
              "res_county                 object\n",
              "res_state                  object\n",
              "age_group                  object\n",
              "date_year                   int64\n",
              "date_month                  int64\n",
              "date_day                    int64\n",
              "dtype: object"
            ]
          },
          "metadata": {
            "tags": []
          },
          "execution_count": 17
        }
      ]
    },
    {
      "cell_type": "code",
      "metadata": {
        "id": "xB_jVcgEqVML"
      },
      "source": [
        "y = df.death_yn.values\n",
        "X = df.drop(\"death_yn\", axis=1)"
      ],
      "execution_count": 18,
      "outputs": []
    },
    {
      "cell_type": "code",
      "metadata": {
        "id": "k0B1Hb5m-48x"
      },
      "source": [
        "X = pd.get_dummies(X)"
      ],
      "execution_count": 19,
      "outputs": []
    },
    {
      "cell_type": "code",
      "metadata": {
        "id": "OI5w3bhF_kRJ"
      },
      "source": [
        "cor = X.corr()"
      ],
      "execution_count": null,
      "outputs": []
    },
    {
      "cell_type": "code",
      "metadata": {
        "colab": {
          "base_uri": "https://localhost:8080/",
          "height": 557
        },
        "id": "bxUQnJkRAwY6",
        "outputId": "be349caf-2c7d-4222-d2f5-f29f3d74612a"
      },
      "source": [
        "cor"
      ],
      "execution_count": null,
      "outputs": [
        {
          "output_type": "execute_result",
          "data": {
            "text/html": [
              "<div>\n",
              "<style scoped>\n",
              "    .dataframe tbody tr th:only-of-type {\n",
              "        vertical-align: middle;\n",
              "    }\n",
              "\n",
              "    .dataframe tbody tr th {\n",
              "        vertical-align: top;\n",
              "    }\n",
              "\n",
              "    .dataframe thead th {\n",
              "        text-align: right;\n",
              "    }\n",
              "</style>\n",
              "<table border=\"1\" class=\"dataframe\">\n",
              "  <thead>\n",
              "    <tr style=\"text-align: right;\">\n",
              "      <th></th>\n",
              "      <th>sex</th>\n",
              "      <th>hosp_yn</th>\n",
              "      <th>icu_yn</th>\n",
              "      <th>hc_work_yn</th>\n",
              "      <th>pna_yn</th>\n",
              "      <th>abxchest_yn</th>\n",
              "      <th>acuterespdistress_yn</th>\n",
              "      <th>mechvent_yn</th>\n",
              "      <th>fever_yn</th>\n",
              "      <th>sfever_yn</th>\n",
              "      <th>...</th>\n",
              "      <th>res_state_WY</th>\n",
              "      <th>age_group_0 - 9 Years</th>\n",
              "      <th>age_group_10 - 19 Years</th>\n",
              "      <th>age_group_20 - 29 Years</th>\n",
              "      <th>age_group_30 - 39 Years</th>\n",
              "      <th>age_group_40 - 49 Years</th>\n",
              "      <th>age_group_50 - 59 Years</th>\n",
              "      <th>age_group_60 - 69 Years</th>\n",
              "      <th>age_group_70 - 79 Years</th>\n",
              "      <th>age_group_80+ Years</th>\n",
              "    </tr>\n",
              "  </thead>\n",
              "  <tbody>\n",
              "    <tr>\n",
              "      <th>sex</th>\n",
              "      <td>1.000000</td>\n",
              "      <td>0.031481</td>\n",
              "      <td>0.036303</td>\n",
              "      <td>-0.232211</td>\n",
              "      <td>0.028350</td>\n",
              "      <td>0.027906</td>\n",
              "      <td>0.019701</td>\n",
              "      <td>0.028404</td>\n",
              "      <td>0.054016</td>\n",
              "      <td>0.022367</td>\n",
              "      <td>...</td>\n",
              "      <td>0.001194</td>\n",
              "      <td>0.022474</td>\n",
              "      <td>0.022818</td>\n",
              "      <td>-0.020131</td>\n",
              "      <td>-0.015042</td>\n",
              "      <td>-0.010350</td>\n",
              "      <td>0.003998</td>\n",
              "      <td>0.010506</td>\n",
              "      <td>0.015749</td>\n",
              "      <td>-0.012889</td>\n",
              "    </tr>\n",
              "    <tr>\n",
              "      <th>hosp_yn</th>\n",
              "      <td>0.031481</td>\n",
              "      <td>1.000000</td>\n",
              "      <td>0.416579</td>\n",
              "      <td>-0.045817</td>\n",
              "      <td>0.513720</td>\n",
              "      <td>0.518831</td>\n",
              "      <td>0.319527</td>\n",
              "      <td>0.261393</td>\n",
              "      <td>0.092937</td>\n",
              "      <td>0.041011</td>\n",
              "      <td>...</td>\n",
              "      <td>-0.005843</td>\n",
              "      <td>-0.032422</td>\n",
              "      <td>-0.074711</td>\n",
              "      <td>-0.090903</td>\n",
              "      <td>-0.061853</td>\n",
              "      <td>-0.032634</td>\n",
              "      <td>0.011184</td>\n",
              "      <td>0.075576</td>\n",
              "      <td>0.156487</td>\n",
              "      <td>0.177489</td>\n",
              "    </tr>\n",
              "    <tr>\n",
              "      <th>icu_yn</th>\n",
              "      <td>0.036303</td>\n",
              "      <td>0.416579</td>\n",
              "      <td>1.000000</td>\n",
              "      <td>-0.026123</td>\n",
              "      <td>0.356769</td>\n",
              "      <td>0.365755</td>\n",
              "      <td>0.402391</td>\n",
              "      <td>0.558852</td>\n",
              "      <td>0.063018</td>\n",
              "      <td>0.030338</td>\n",
              "      <td>...</td>\n",
              "      <td>-0.002520</td>\n",
              "      <td>-0.014456</td>\n",
              "      <td>-0.034948</td>\n",
              "      <td>-0.044746</td>\n",
              "      <td>-0.028901</td>\n",
              "      <td>-0.014623</td>\n",
              "      <td>0.008918</td>\n",
              "      <td>0.041554</td>\n",
              "      <td>0.071544</td>\n",
              "      <td>0.069123</td>\n",
              "    </tr>\n",
              "    <tr>\n",
              "      <th>hc_work_yn</th>\n",
              "      <td>-0.232211</td>\n",
              "      <td>-0.045817</td>\n",
              "      <td>-0.026123</td>\n",
              "      <td>1.000000</td>\n",
              "      <td>-0.024458</td>\n",
              "      <td>-0.021980</td>\n",
              "      <td>-0.014105</td>\n",
              "      <td>-0.019077</td>\n",
              "      <td>-0.008238</td>\n",
              "      <td>0.021139</td>\n",
              "      <td>...</td>\n",
              "      <td>-0.006821</td>\n",
              "      <td>-0.064999</td>\n",
              "      <td>-0.102998</td>\n",
              "      <td>0.075547</td>\n",
              "      <td>0.092079</td>\n",
              "      <td>0.058660</td>\n",
              "      <td>0.017012</td>\n",
              "      <td>-0.043239</td>\n",
              "      <td>-0.090740</td>\n",
              "      <td>-0.069542</td>\n",
              "    </tr>\n",
              "    <tr>\n",
              "      <th>pna_yn</th>\n",
              "      <td>0.028350</td>\n",
              "      <td>0.513720</td>\n",
              "      <td>0.356769</td>\n",
              "      <td>-0.024458</td>\n",
              "      <td>1.000000</td>\n",
              "      <td>0.765337</td>\n",
              "      <td>0.377864</td>\n",
              "      <td>0.264518</td>\n",
              "      <td>0.116789</td>\n",
              "      <td>0.071819</td>\n",
              "      <td>...</td>\n",
              "      <td>-0.001736</td>\n",
              "      <td>-0.031029</td>\n",
              "      <td>-0.062541</td>\n",
              "      <td>-0.073391</td>\n",
              "      <td>-0.035156</td>\n",
              "      <td>-0.008182</td>\n",
              "      <td>0.021712</td>\n",
              "      <td>0.056872</td>\n",
              "      <td>0.097092</td>\n",
              "      <td>0.105273</td>\n",
              "    </tr>\n",
              "    <tr>\n",
              "      <th>...</th>\n",
              "      <td>...</td>\n",
              "      <td>...</td>\n",
              "      <td>...</td>\n",
              "      <td>...</td>\n",
              "      <td>...</td>\n",
              "      <td>...</td>\n",
              "      <td>...</td>\n",
              "      <td>...</td>\n",
              "      <td>...</td>\n",
              "      <td>...</td>\n",
              "      <td>...</td>\n",
              "      <td>...</td>\n",
              "      <td>...</td>\n",
              "      <td>...</td>\n",
              "      <td>...</td>\n",
              "      <td>...</td>\n",
              "      <td>...</td>\n",
              "      <td>...</td>\n",
              "      <td>...</td>\n",
              "      <td>...</td>\n",
              "      <td>...</td>\n",
              "    </tr>\n",
              "    <tr>\n",
              "      <th>age_group_40 - 49 Years</th>\n",
              "      <td>-0.010350</td>\n",
              "      <td>-0.032634</td>\n",
              "      <td>-0.014623</td>\n",
              "      <td>0.058660</td>\n",
              "      <td>-0.008182</td>\n",
              "      <td>-0.008994</td>\n",
              "      <td>-0.006202</td>\n",
              "      <td>-0.010984</td>\n",
              "      <td>0.023849</td>\n",
              "      <td>0.038337</td>\n",
              "      <td>...</td>\n",
              "      <td>-0.003363</td>\n",
              "      <td>-0.071865</td>\n",
              "      <td>-0.145752</td>\n",
              "      <td>-0.203224</td>\n",
              "      <td>-0.184963</td>\n",
              "      <td>1.000000</td>\n",
              "      <td>-0.185663</td>\n",
              "      <td>-0.157455</td>\n",
              "      <td>-0.109957</td>\n",
              "      <td>-0.078083</td>\n",
              "    </tr>\n",
              "    <tr>\n",
              "      <th>age_group_50 - 59 Years</th>\n",
              "      <td>0.003998</td>\n",
              "      <td>0.011184</td>\n",
              "      <td>0.008918</td>\n",
              "      <td>0.017012</td>\n",
              "      <td>0.021712</td>\n",
              "      <td>0.021461</td>\n",
              "      <td>0.005543</td>\n",
              "      <td>0.009236</td>\n",
              "      <td>0.035287</td>\n",
              "      <td>0.039382</td>\n",
              "      <td>...</td>\n",
              "      <td>-0.002090</td>\n",
              "      <td>-0.072933</td>\n",
              "      <td>-0.147918</td>\n",
              "      <td>-0.206244</td>\n",
              "      <td>-0.187712</td>\n",
              "      <td>-0.185663</td>\n",
              "      <td>1.000000</td>\n",
              "      <td>-0.159795</td>\n",
              "      <td>-0.111591</td>\n",
              "      <td>-0.079243</td>\n",
              "    </tr>\n",
              "    <tr>\n",
              "      <th>age_group_60 - 69 Years</th>\n",
              "      <td>0.010506</td>\n",
              "      <td>0.075576</td>\n",
              "      <td>0.041554</td>\n",
              "      <td>-0.043239</td>\n",
              "      <td>0.056872</td>\n",
              "      <td>0.056282</td>\n",
              "      <td>0.024310</td>\n",
              "      <td>0.027166</td>\n",
              "      <td>0.020040</td>\n",
              "      <td>0.013812</td>\n",
              "      <td>...</td>\n",
              "      <td>-0.003867</td>\n",
              "      <td>-0.061853</td>\n",
              "      <td>-0.125445</td>\n",
              "      <td>-0.174910</td>\n",
              "      <td>-0.159193</td>\n",
              "      <td>-0.157455</td>\n",
              "      <td>-0.159795</td>\n",
              "      <td>1.000000</td>\n",
              "      <td>-0.094637</td>\n",
              "      <td>-0.067204</td>\n",
              "    </tr>\n",
              "    <tr>\n",
              "      <th>age_group_70 - 79 Years</th>\n",
              "      <td>0.015749</td>\n",
              "      <td>0.156487</td>\n",
              "      <td>0.071544</td>\n",
              "      <td>-0.090740</td>\n",
              "      <td>0.097092</td>\n",
              "      <td>0.097280</td>\n",
              "      <td>0.062757</td>\n",
              "      <td>0.052054</td>\n",
              "      <td>-0.006176</td>\n",
              "      <td>-0.020989</td>\n",
              "      <td>...</td>\n",
              "      <td>-0.003366</td>\n",
              "      <td>-0.043194</td>\n",
              "      <td>-0.087603</td>\n",
              "      <td>-0.122146</td>\n",
              "      <td>-0.111170</td>\n",
              "      <td>-0.109957</td>\n",
              "      <td>-0.111591</td>\n",
              "      <td>-0.094637</td>\n",
              "      <td>1.000000</td>\n",
              "      <td>-0.046931</td>\n",
              "    </tr>\n",
              "    <tr>\n",
              "      <th>age_group_80+ Years</th>\n",
              "      <td>-0.012889</td>\n",
              "      <td>0.177489</td>\n",
              "      <td>0.069123</td>\n",
              "      <td>-0.069542</td>\n",
              "      <td>0.105273</td>\n",
              "      <td>0.112032</td>\n",
              "      <td>0.068231</td>\n",
              "      <td>0.036847</td>\n",
              "      <td>-0.033699</td>\n",
              "      <td>-0.061483</td>\n",
              "      <td>...</td>\n",
              "      <td>-0.003972</td>\n",
              "      <td>-0.030673</td>\n",
              "      <td>-0.062208</td>\n",
              "      <td>-0.086738</td>\n",
              "      <td>-0.078944</td>\n",
              "      <td>-0.078083</td>\n",
              "      <td>-0.079243</td>\n",
              "      <td>-0.067204</td>\n",
              "      <td>-0.046931</td>\n",
              "      <td>1.000000</td>\n",
              "    </tr>\n",
              "  </tbody>\n",
              "</table>\n",
              "<p>365 rows × 365 columns</p>\n",
              "</div>"
            ],
            "text/plain": [
              "                              sex   hosp_yn    icu_yn  hc_work_yn    pna_yn  \\\n",
              "sex                      1.000000  0.031481  0.036303   -0.232211  0.028350   \n",
              "hosp_yn                  0.031481  1.000000  0.416579   -0.045817  0.513720   \n",
              "icu_yn                   0.036303  0.416579  1.000000   -0.026123  0.356769   \n",
              "hc_work_yn              -0.232211 -0.045817 -0.026123    1.000000 -0.024458   \n",
              "pna_yn                   0.028350  0.513720  0.356769   -0.024458  1.000000   \n",
              "...                           ...       ...       ...         ...       ...   \n",
              "age_group_40 - 49 Years -0.010350 -0.032634 -0.014623    0.058660 -0.008182   \n",
              "age_group_50 - 59 Years  0.003998  0.011184  0.008918    0.017012  0.021712   \n",
              "age_group_60 - 69 Years  0.010506  0.075576  0.041554   -0.043239  0.056872   \n",
              "age_group_70 - 79 Years  0.015749  0.156487  0.071544   -0.090740  0.097092   \n",
              "age_group_80+ Years     -0.012889  0.177489  0.069123   -0.069542  0.105273   \n",
              "\n",
              "                         abxchest_yn  acuterespdistress_yn  mechvent_yn  \\\n",
              "sex                         0.027906              0.019701     0.028404   \n",
              "hosp_yn                     0.518831              0.319527     0.261393   \n",
              "icu_yn                      0.365755              0.402391     0.558852   \n",
              "hc_work_yn                 -0.021980             -0.014105    -0.019077   \n",
              "pna_yn                      0.765337              0.377864     0.264518   \n",
              "...                              ...                   ...          ...   \n",
              "age_group_40 - 49 Years    -0.008994             -0.006202    -0.010984   \n",
              "age_group_50 - 59 Years     0.021461              0.005543     0.009236   \n",
              "age_group_60 - 69 Years     0.056282              0.024310     0.027166   \n",
              "age_group_70 - 79 Years     0.097280              0.062757     0.052054   \n",
              "age_group_80+ Years         0.112032              0.068231     0.036847   \n",
              "\n",
              "                         fever_yn  sfever_yn  ...  res_state_WY  \\\n",
              "sex                      0.054016   0.022367  ...      0.001194   \n",
              "hosp_yn                  0.092937   0.041011  ...     -0.005843   \n",
              "icu_yn                   0.063018   0.030338  ...     -0.002520   \n",
              "hc_work_yn              -0.008238   0.021139  ...     -0.006821   \n",
              "pna_yn                   0.116789   0.071819  ...     -0.001736   \n",
              "...                           ...        ...  ...           ...   \n",
              "age_group_40 - 49 Years  0.023849   0.038337  ...     -0.003363   \n",
              "age_group_50 - 59 Years  0.035287   0.039382  ...     -0.002090   \n",
              "age_group_60 - 69 Years  0.020040   0.013812  ...     -0.003867   \n",
              "age_group_70 - 79 Years -0.006176  -0.020989  ...     -0.003366   \n",
              "age_group_80+ Years     -0.033699  -0.061483  ...     -0.003972   \n",
              "\n",
              "                         age_group_0 - 9 Years  age_group_10 - 19 Years  \\\n",
              "sex                                   0.022474                 0.022818   \n",
              "hosp_yn                              -0.032422                -0.074711   \n",
              "icu_yn                               -0.014456                -0.034948   \n",
              "hc_work_yn                           -0.064999                -0.102998   \n",
              "pna_yn                               -0.031029                -0.062541   \n",
              "...                                        ...                      ...   \n",
              "age_group_40 - 49 Years              -0.071865                -0.145752   \n",
              "age_group_50 - 59 Years              -0.072933                -0.147918   \n",
              "age_group_60 - 69 Years              -0.061853                -0.125445   \n",
              "age_group_70 - 79 Years              -0.043194                -0.087603   \n",
              "age_group_80+ Years                  -0.030673                -0.062208   \n",
              "\n",
              "                         age_group_20 - 29 Years  age_group_30 - 39 Years  \\\n",
              "sex                                    -0.020131                -0.015042   \n",
              "hosp_yn                                -0.090903                -0.061853   \n",
              "icu_yn                                 -0.044746                -0.028901   \n",
              "hc_work_yn                              0.075547                 0.092079   \n",
              "pna_yn                                 -0.073391                -0.035156   \n",
              "...                                          ...                      ...   \n",
              "age_group_40 - 49 Years                -0.203224                -0.184963   \n",
              "age_group_50 - 59 Years                -0.206244                -0.187712   \n",
              "age_group_60 - 69 Years                -0.174910                -0.159193   \n",
              "age_group_70 - 79 Years                -0.122146                -0.111170   \n",
              "age_group_80+ Years                    -0.086738                -0.078944   \n",
              "\n",
              "                         age_group_40 - 49 Years  age_group_50 - 59 Years  \\\n",
              "sex                                    -0.010350                 0.003998   \n",
              "hosp_yn                                -0.032634                 0.011184   \n",
              "icu_yn                                 -0.014623                 0.008918   \n",
              "hc_work_yn                              0.058660                 0.017012   \n",
              "pna_yn                                 -0.008182                 0.021712   \n",
              "...                                          ...                      ...   \n",
              "age_group_40 - 49 Years                 1.000000                -0.185663   \n",
              "age_group_50 - 59 Years                -0.185663                 1.000000   \n",
              "age_group_60 - 69 Years                -0.157455                -0.159795   \n",
              "age_group_70 - 79 Years                -0.109957                -0.111591   \n",
              "age_group_80+ Years                    -0.078083                -0.079243   \n",
              "\n",
              "                         age_group_60 - 69 Years  age_group_70 - 79 Years  \\\n",
              "sex                                     0.010506                 0.015749   \n",
              "hosp_yn                                 0.075576                 0.156487   \n",
              "icu_yn                                  0.041554                 0.071544   \n",
              "hc_work_yn                             -0.043239                -0.090740   \n",
              "pna_yn                                  0.056872                 0.097092   \n",
              "...                                          ...                      ...   \n",
              "age_group_40 - 49 Years                -0.157455                -0.109957   \n",
              "age_group_50 - 59 Years                -0.159795                -0.111591   \n",
              "age_group_60 - 69 Years                 1.000000                -0.094637   \n",
              "age_group_70 - 79 Years                -0.094637                 1.000000   \n",
              "age_group_80+ Years                    -0.067204                -0.046931   \n",
              "\n",
              "                         age_group_80+ Years  \n",
              "sex                                -0.012889  \n",
              "hosp_yn                             0.177489  \n",
              "icu_yn                              0.069123  \n",
              "hc_work_yn                         -0.069542  \n",
              "pna_yn                              0.105273  \n",
              "...                                      ...  \n",
              "age_group_40 - 49 Years            -0.078083  \n",
              "age_group_50 - 59 Years            -0.079243  \n",
              "age_group_60 - 69 Years            -0.067204  \n",
              "age_group_70 - 79 Years            -0.046931  \n",
              "age_group_80+ Years                 1.000000  \n",
              "\n",
              "[365 rows x 365 columns]"
            ]
          },
          "metadata": {
            "tags": []
          },
          "execution_count": 17
        }
      ]
    },
    {
      "cell_type": "code",
      "metadata": {
        "colab": {
          "base_uri": "https://localhost:8080/"
        },
        "id": "bk2Rv0A0AO6s",
        "outputId": "46a48c33-6460-446f-e908-169ee4d4950f"
      },
      "source": [
        "l = []\n",
        "for col in cor.columns:\n",
        "  for idx in cor.columns:\n",
        "    if cor.loc[idx, col] > 0.8 and idx != col:\n",
        "      l.append((idx, col, cor.loc[idx, col]))\n",
        "l"
      ],
      "execution_count": null,
      "outputs": [
        {
          "output_type": "execute_result",
          "data": {
            "text/plain": [
              "[('res_state_AK', 'res_county_ANCHORAGE', 0.8659975734609457),\n",
              " ('res_state_NV', 'res_county_CLARK', 0.8196529417316747),\n",
              " ('res_state_NJ', 'res_county_MONMOUTH', 1.0),\n",
              " ('res_state_WV', 'res_county_MONONGALIA', 1.0),\n",
              " ('res_state_AR', 'res_county_PULASKI', 1.0),\n",
              " ('res_state_NY', 'res_county_RENSSELAER', 1.0),\n",
              " ('res_county_ANCHORAGE', 'res_state_AK', 0.8659975734609457),\n",
              " ('res_county_PULASKI', 'res_state_AR', 1.0),\n",
              " ('res_county_MONMOUTH', 'res_state_NJ', 1.0),\n",
              " ('res_county_CLARK', 'res_state_NV', 0.8196529417316747),\n",
              " ('res_county_RENSSELAER', 'res_state_NY', 1.0),\n",
              " ('res_county_MONONGALIA', 'res_state_WV', 1.0)]"
            ]
          },
          "metadata": {
            "tags": []
          },
          "execution_count": 18
        }
      ]
    },
    {
      "cell_type": "code",
      "metadata": {
        "colab": {
          "base_uri": "https://localhost:8080/",
          "height": 213
        },
        "id": "f2YtSDZfDgvZ",
        "outputId": "73adacb6-36f4-484f-e5eb-d81c3a03548d"
      },
      "source": [
        "df[df.res_state == \"NY\"]"
      ],
      "execution_count": null,
      "outputs": [
        {
          "output_type": "execute_result",
          "data": {
            "text/html": [
              "<div>\n",
              "<style scoped>\n",
              "    .dataframe tbody tr th:only-of-type {\n",
              "        vertical-align: middle;\n",
              "    }\n",
              "\n",
              "    .dataframe tbody tr th {\n",
              "        vertical-align: top;\n",
              "    }\n",
              "\n",
              "    .dataframe thead th {\n",
              "        text-align: right;\n",
              "    }\n",
              "</style>\n",
              "<table border=\"1\" class=\"dataframe\">\n",
              "  <thead>\n",
              "    <tr style=\"text-align: right;\">\n",
              "      <th></th>\n",
              "      <th>race_ethnicity_combined</th>\n",
              "      <th>current_status</th>\n",
              "      <th>sex</th>\n",
              "      <th>hosp_yn</th>\n",
              "      <th>icu_yn</th>\n",
              "      <th>death_yn</th>\n",
              "      <th>hc_work_yn</th>\n",
              "      <th>pna_yn</th>\n",
              "      <th>abxchest_yn</th>\n",
              "      <th>acuterespdistress_yn</th>\n",
              "      <th>...</th>\n",
              "      <th>headache_yn</th>\n",
              "      <th>abdom_yn</th>\n",
              "      <th>diarrhea_yn</th>\n",
              "      <th>medcond_yn</th>\n",
              "      <th>res_county</th>\n",
              "      <th>res_state</th>\n",
              "      <th>age_group</th>\n",
              "      <th>date_year</th>\n",
              "      <th>date_month</th>\n",
              "      <th>date_day</th>\n",
              "    </tr>\n",
              "  </thead>\n",
              "  <tbody>\n",
              "    <tr>\n",
              "      <th>46297</th>\n",
              "      <td>White, Non-Hispanic</td>\n",
              "      <td>Laboratory-confirmed case</td>\n",
              "      <td>1</td>\n",
              "      <td>1</td>\n",
              "      <td>0</td>\n",
              "      <td>0</td>\n",
              "      <td>0</td>\n",
              "      <td>0</td>\n",
              "      <td>0</td>\n",
              "      <td>0</td>\n",
              "      <td>...</td>\n",
              "      <td>0</td>\n",
              "      <td>0</td>\n",
              "      <td>0</td>\n",
              "      <td>0</td>\n",
              "      <td>RENSSELAER</td>\n",
              "      <td>NY</td>\n",
              "      <td>70 - 79 Years</td>\n",
              "      <td>2020</td>\n",
              "      <td>12</td>\n",
              "      <td>18</td>\n",
              "    </tr>\n",
              "    <tr>\n",
              "      <th>46298</th>\n",
              "      <td>White, Non-Hispanic</td>\n",
              "      <td>Laboratory-confirmed case</td>\n",
              "      <td>1</td>\n",
              "      <td>1</td>\n",
              "      <td>0</td>\n",
              "      <td>0</td>\n",
              "      <td>0</td>\n",
              "      <td>0</td>\n",
              "      <td>1</td>\n",
              "      <td>0</td>\n",
              "      <td>...</td>\n",
              "      <td>1</td>\n",
              "      <td>0</td>\n",
              "      <td>0</td>\n",
              "      <td>1</td>\n",
              "      <td>RENSSELAER</td>\n",
              "      <td>NY</td>\n",
              "      <td>70 - 79 Years</td>\n",
              "      <td>2020</td>\n",
              "      <td>9</td>\n",
              "      <td>28</td>\n",
              "    </tr>\n",
              "    <tr>\n",
              "      <th>148488</th>\n",
              "      <td>White, Non-Hispanic</td>\n",
              "      <td>Laboratory-confirmed case</td>\n",
              "      <td>0</td>\n",
              "      <td>1</td>\n",
              "      <td>0</td>\n",
              "      <td>0</td>\n",
              "      <td>0</td>\n",
              "      <td>0</td>\n",
              "      <td>1</td>\n",
              "      <td>0</td>\n",
              "      <td>...</td>\n",
              "      <td>1</td>\n",
              "      <td>1</td>\n",
              "      <td>1</td>\n",
              "      <td>1</td>\n",
              "      <td>RENSSELAER</td>\n",
              "      <td>NY</td>\n",
              "      <td>60 - 69 Years</td>\n",
              "      <td>2020</td>\n",
              "      <td>3</td>\n",
              "      <td>23</td>\n",
              "    </tr>\n",
              "  </tbody>\n",
              "</table>\n",
              "<p>3 rows × 30 columns</p>\n",
              "</div>"
            ],
            "text/plain": [
              "       race_ethnicity_combined             current_status  sex  hosp_yn  \\\n",
              "46297      White, Non-Hispanic  Laboratory-confirmed case    1        1   \n",
              "46298      White, Non-Hispanic  Laboratory-confirmed case    1        1   \n",
              "148488     White, Non-Hispanic  Laboratory-confirmed case    0        1   \n",
              "\n",
              "        icu_yn  death_yn  hc_work_yn  pna_yn  abxchest_yn  \\\n",
              "46297        0         0           0       0            0   \n",
              "46298        0         0           0       0            1   \n",
              "148488       0         0           0       0            1   \n",
              "\n",
              "        acuterespdistress_yn  ...  headache_yn  abdom_yn  diarrhea_yn  \\\n",
              "46297                      0  ...            0         0            0   \n",
              "46298                      0  ...            1         0            0   \n",
              "148488                     0  ...            1         1            1   \n",
              "\n",
              "        medcond_yn  res_county  res_state      age_group  date_year  \\\n",
              "46297            0  RENSSELAER         NY  70 - 79 Years       2020   \n",
              "46298            1  RENSSELAER         NY  70 - 79 Years       2020   \n",
              "148488           1  RENSSELAER         NY  60 - 69 Years       2020   \n",
              "\n",
              "        date_month  date_day  \n",
              "46297           12        18  \n",
              "46298            9        28  \n",
              "148488           3        23  \n",
              "\n",
              "[3 rows x 30 columns]"
            ]
          },
          "metadata": {
            "tags": []
          },
          "execution_count": 15
        }
      ]
    },
    {
      "cell_type": "code",
      "metadata": {
        "id": "p-PxCoZmpgH6"
      },
      "source": [
        " # 0.2 - testowy, 0.2 - validacyjny, 0.6 - treningowy\n",
        "\n",
        "X_train, X_test, y_train, y_test = train_test_split(X, y, test_size=0.2, random_state=1)\n",
        "X_train, X_val, y_train, y_val = train_test_split(X_train, y_train, test_size=0.25, random_state=1) # 0.25 x 0.8 = 0.2"
      ],
      "execution_count": 20,
      "outputs": []
    },
    {
      "cell_type": "code",
      "metadata": {
        "id": "tevXD9aEejAw"
      },
      "source": [
        "def find_best_params(X_train, y_train, X_val, y_val, params):\n",
        "\n",
        "    def check_parameters(learning_rate, max_depth, min_child_weight, scale_pos_weight, gamma=0):\n",
        "        model = XGBClassifier(\n",
        "            learning_rate=learning_rate,\n",
        "            max_depth=max_depth,\n",
        "            min_child_weight=min_child_weight,\n",
        "            gamma=gamma,\n",
        "            eval_metric=\"logloss\",\n",
        "            use_label_encoder=False,\n",
        "            scale_pos_weight = scale_pos_weight\n",
        "        )\n",
        "        \n",
        "        model.fit(X_train, y_train)\n",
        "        \n",
        "        y_pred = model.predict(X_val)\n",
        "        \n",
        "        acc = accuracy_score(y_val, y_pred)\n",
        "        f1 = f1_score(y_val, y_pred)\n",
        "        \n",
        "        return acc, f1\n",
        "    \n",
        "    \n",
        "    best_sum = 0\n",
        "    best_param = {\n",
        "        \"learning_rate\":-1,\n",
        "        \"max_depth\":-1,\n",
        "        \"min_child_weight\":-1,\n",
        "        \"gamma\":-1,\n",
        "        \"scale_pos_weight\":-1\n",
        "    }\n",
        "    \n",
        "    for learning_rate in params[\"learning_rate\"]:\n",
        "        for max_depth in params[\"max_depth\"]:\n",
        "            for min_child_weight in params[\"min_child_weight\"]:\n",
        "                for gamma in params[\"gamma\"]:\n",
        "                    for scale_pos_weight in params[\"scale_pos_weight\"]:\n",
        "                        \n",
        "                        start = time.time()\n",
        "                        acc, f1 = check_parameters(learning_rate=learning_rate, \n",
        "                                                   max_depth=max_depth, \n",
        "                                                   min_child_weight=min_child_weight,\n",
        "                                                   scale_pos_weight=scale_pos_weight,\n",
        "                                                   gamma=gamma)\n",
        "                        end = time.time()\n",
        "                        print(end - start)\n",
        "                        \n",
        "                        print(\"\\nDokładność: {:.4f}; F1-score: {:.4f}\".format(acc, f1))\n",
        "\n",
        "                        if(best_sum < acc + f1):\n",
        "                            print(\"NEW BEST\")\n",
        "                            best_param = {\n",
        "                                \"learning_rate\": learning_rate,\n",
        "                                \"max_depth\": max_depth,\n",
        "                                \"min_child_weight\": min_child_weight,\n",
        "                                \"gamma\": gamma,\n",
        "                                \"scale_pos_weight\": scale_pos_weight\n",
        "                                }\n",
        "                            print(best_param)\n",
        "                            best_sum = acc + f1 \n",
        "    return best_param"
      ],
      "execution_count": 21,
      "outputs": []
    },
    {
      "cell_type": "code",
      "metadata": {
        "id": "K4acBt-EHLzF"
      },
      "source": [
        "parameters = {\n",
        " \"learning_rate\"    : [0.15, 0.20, 0.25 ] ,\n",
        " \"max_depth\"        : [ 2, 3, 7 ],\n",
        " \"min_child_weight\" : [ 3, 5, 7 ],\n",
        " \"scale_pos_weight\" : [ 1, 3, 5 ],\n",
        " \"gamma\"            : [ 0.0, 0.1 ]\n",
        "    \n",
        " }\n",
        "\n",
        "# parameters = {\"learning_rate\"    : [0.05, 0.10, 0.15, 0.20, 0.25, 0.30 ] ,\n",
        "#  \"max_depth\"        : [ 3, 4, 5, 6, 8, 10, 12, 15],\n",
        "#  \"min_child_weight\" : [ 1, 3, 5, 7 ],\n",
        "#  \"gamma\"            : [ 0.0, 0.1, 0.2 , 0.3, 0.4 ],\n",
        "#  \"colsample_bytree\" : [ 0.3, 0.4, 0.5 , 0.7 ] }"
      ],
      "execution_count": 22,
      "outputs": []
    },
    {
      "cell_type": "code",
      "metadata": {
        "id": "FC02MDYXHLzF",
        "outputId": "6d87b7e9-ab11-4ae1-f275-0fb9b36d2a4a"
      },
      "source": [
        "best_params = find_best_params(X_train, y_train, X_val, y_val, parameters)"
      ],
      "execution_count": null,
      "outputs": [
        {
          "output_type": "stream",
          "text": [
            "15.064919710159302\n",
            "\n",
            "Dokładność: 0.9889; F1-score: 0.2852\n",
            "NEW BEST\n",
            "{'learning_rate': 0.15, 'max_depth': 2, 'min_child_weight': 3, 'gamma': 0.0, 'scale_pos_weight': 1}\n",
            "16.049747943878174\n",
            "\n",
            "Dokładność: 0.9861; F1-score: 0.4338\n",
            "NEW BEST\n",
            "{'learning_rate': 0.15, 'max_depth': 2, 'min_child_weight': 3, 'gamma': 0.0, 'scale_pos_weight': 3}\n",
            "16.781575918197632\n",
            "\n",
            "Dokładność: 0.9779; F1-score: 0.4109\n"
          ],
          "name": "stdout"
        },
        {
          "output_type": "stream",
          "text": [
            "\n",
            "KeyboardInterrupt\n",
            "\n"
          ],
          "name": "stderr"
        }
      ]
    },
    {
      "cell_type": "code",
      "metadata": {
        "id": "amEq-_XJHLzG",
        "outputId": "18da84c4-75ac-4655-f8b1-e7e2f4fd5463"
      },
      "source": [
        "print(best_params)"
      ],
      "execution_count": null,
      "outputs": [
        {
          "output_type": "stream",
          "text": [
            "{'learning_rate': 0.2, 'max_depth': 3, 'min_child_weight': 5, 'gamma': 0.0, 'scale_pos_weight': 3}\n"
          ],
          "name": "stdout"
        }
      ]
    },
    {
      "cell_type": "markdown",
      "metadata": {
        "id": "8-IikLBrHLzG"
      },
      "source": [
        "Najlepsze parametry:\n",
        "{'learning_rate': 0.2, 'max_depth': 3, 'min_child_weight': 5, 'gamma': 0.0, 'scale_pos_weight': 3}"
      ]
    },
    {
      "cell_type": "code",
      "metadata": {
        "id": "XA72Jg6JHLzG"
      },
      "source": [
        "best_model = XGBClassifier(\n",
        "            learning_rate=0.2,\n",
        "            max_depth=3,\n",
        "            min_child_weight=5,\n",
        "            gamma=0,\n",
        "            eval_metric=\"logloss\",\n",
        "            use_label_encoder=False,\n",
        "            scale_pos_weight = 3\n",
        "        )"
      ],
      "execution_count": 23,
      "outputs": []
    },
    {
      "cell_type": "code",
      "metadata": {
        "colab": {
          "base_uri": "https://localhost:8080/"
        },
        "id": "xL-lZHmSHLzH",
        "outputId": "8af2fc56-a4bb-41a9-955f-df06274910ee"
      },
      "source": [
        "best_model.fit(X_train, y_train)"
      ],
      "execution_count": 24,
      "outputs": [
        {
          "output_type": "execute_result",
          "data": {
            "text/plain": [
              "XGBClassifier(base_score=0.5, booster='gbtree', colsample_bylevel=1,\n",
              "              colsample_bynode=1, colsample_bytree=1, eval_metric='logloss',\n",
              "              gamma=0, learning_rate=0.2, max_delta_step=0, max_depth=3,\n",
              "              min_child_weight=5, missing=None, n_estimators=100, n_jobs=1,\n",
              "              nthread=None, objective='binary:logistic', random_state=0,\n",
              "              reg_alpha=0, reg_lambda=1, scale_pos_weight=3, seed=None,\n",
              "              silent=None, subsample=1, use_label_encoder=False, verbosity=1)"
            ]
          },
          "metadata": {
            "tags": []
          },
          "execution_count": 24
        }
      ]
    },
    {
      "cell_type": "code",
      "metadata": {
        "colab": {
          "base_uri": "https://localhost:8080/"
        },
        "id": "IxfbKtzSHLzH",
        "outputId": "01f5ee23-3cc3-49a9-eada-d7106fc3fbea"
      },
      "source": [
        "y_pred = best_model.predict(X_test)\n",
        "\n",
        "acc = accuracy_score(y_test, y_pred)\n",
        "f1 = f1_score(y_test, y_pred)\n",
        "\n",
        "print(\"\\nDokładność: {:.4f}; F1-score: {:.4f}\".format(acc, f1))"
      ],
      "execution_count": 25,
      "outputs": [
        {
          "output_type": "stream",
          "text": [
            "\n",
            "Dokładność: 0.9851; F1-score: 0.4604\n"
          ],
          "name": "stdout"
        }
      ]
    },
    {
      "cell_type": "code",
      "metadata": {
        "colab": {
          "base_uri": "https://localhost:8080/",
          "height": 295
        },
        "id": "BURX7RrnHLzH",
        "outputId": "57bad4eb-bd59-4bd2-8746-8a4e118abbf9"
      },
      "source": [
        "probs = best_model.predict_proba(X_test)\n",
        "preds = probs[:,1]\n",
        "fpr, tpr, threshold = roc_curve(y_test, preds)\n",
        "roc_auc = auc(fpr, tpr)\n",
        "\n",
        "plt.title('Receiver Operating Characteristic')\n",
        "plt.plot(fpr, tpr, 'b', label = 'AUC = %0.2f' % roc_auc)\n",
        "plt.legend(loc = 'lower right')\n",
        "plt.plot([0, 1], [0, 1],'r--')\n",
        "plt.xlim([0, 1])\n",
        "plt.ylim([0, 1])\n",
        "plt.ylabel('True Positive Rate')\n",
        "plt.xlabel('False Positive Rate')\n",
        "plt.show()"
      ],
      "execution_count": 26,
      "outputs": [
        {
          "output_type": "display_data",
          "data": {
            "image/png": "[encoded data removed]",
            "text/plain": [
              "<Figure size 432x288 with 1 Axes>"
            ]
          },
          "metadata": {
            "tags": [],
            "needs_background": "light"
          }
        }
      ]
    },
    {
      "cell_type": "code",
      "metadata": {
        "colab": {
          "base_uri": "https://localhost:8080/"
        },
        "id": "Hsu365FjHLzI",
        "outputId": "da30029f-1496-47a8-8b6f-5525ae133838"
      },
      "source": [
        "confusion_matrix(y_test, y_pred)"
      ],
      "execution_count": 27,
      "outputs": [
        {
          "output_type": "execute_result",
          "data": {
            "text/plain": [
              "array([[33508,   285],\n",
              "       [  226,   218]])"
            ]
          },
          "metadata": {
            "tags": []
          },
          "execution_count": 27
        }
      ]
    },
    {
      "cell_type": "code",
      "metadata": {
        "id": "rMytp4mvHLzI"
      },
      "source": [
        "explainer = shap.TreeExplainer(best_model)"
      ],
      "execution_count": 28,
      "outputs": []
    },
    {
      "cell_type": "code",
      "metadata": {
        "id": "Nj18OLohHLzI"
      },
      "source": [
        "shap_values_XGB_train = explainer.shap_values(X_train)"
      ],
      "execution_count": 36,
      "outputs": []
    },
    {
      "cell_type": "code",
      "metadata": {
        "colab": {
          "base_uri": "https://localhost:8080/",
          "height": 585
        },
        "id": "oGfQVOJBHLzJ",
        "outputId": "f0eb16e0-44b1-4335-8785-85f040429de3"
      },
      "source": [
        "shap.summary_plot(shap_values_XGB_train, X_train)"
      ],
      "execution_count": 37,
      "outputs": [
        {
          "output_type": "display_data",
          "data": {
            "image/png": "[encoded data removed]",
            "text/plain": [
              "<Figure size 576x684 with 2 Axes>"
            ]
          },
          "metadata": {
            "tags": [],
            "needs_background": "light"
          }
        }
      ]
    },
    {
      "cell_type": "code",
      "metadata": {
        "id": "aP_KiberHLzI"
      },
      "source": [
        "shap_values_XGB_test = explainer.shap_values(X_test)"
      ],
      "execution_count": 29,
      "outputs": []
    },
    {
      "cell_type": "code",
      "metadata": {
        "colab": {
          "base_uri": "https://localhost:8080/",
          "height": 585
        },
        "id": "bf5WvBY7HLzI",
        "outputId": "f3927ee3-c175-4dd9-e64f-f352c023f8b8"
      },
      "source": [
        "shap.summary_plot(shap_values_XGB_test, X_test)"
      ],
      "execution_count": 30,
      "outputs": [
        {
          "output_type": "display_data",
          "data": {
            "image/png": "[encoded data removed]",
            "text/plain": [
              "<Figure size 576x684 with 2 Axes>"
            ]
          },
          "metadata": {
            "tags": [],
            "needs_background": "light"
          }
        }
      ]
    }
  ]
}